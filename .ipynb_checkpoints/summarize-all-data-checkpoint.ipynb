{
 "cells": [
  {
   "cell_type": "markdown",
   "metadata": {},
   "source": [
    "# Quantify some metrics from all data files\n",
    "\n",
    "Assess total duration of all data, sampling rate for each of the files, and unique activity labels."
   ]
  },
  {
   "cell_type": "code",
   "execution_count": 1,
   "metadata": {
    "ExecuteTime": {
     "end_time": "2019-10-01T18:43:50.567066Z",
     "start_time": "2019-10-01T18:43:48.147556Z"
    }
   },
   "outputs": [],
   "source": [
    "import pandas as pd\n",
    "import numpy as np\n",
    "import matplotlib.pyplot as plt\n",
    "import matplotlib as mpl\n",
    "import scipy.signal as signal\n",
    "import datetime\n",
    "\n",
    "%matplotlib notebook"
   ]
  },
  {
   "cell_type": "markdown",
   "metadata": {},
   "source": [
    "## List all files and initialize variables"
   ]
  },
  {
   "cell_type": "code",
   "execution_count": 3,
   "metadata": {
    "ExecuteTime": {
     "end_time": "2019-10-01T18:43:56.818150Z",
     "start_time": "2019-10-01T18:43:56.793799Z"
    }
   },
   "outputs": [],
   "source": [
    "files = !ls *xq*.csv"
   ]
  },
  {
   "cell_type": "code",
   "execution_count": 4,
   "metadata": {
    "ExecuteTime": {
     "end_time": "2019-10-01T18:43:59.083722Z",
     "start_time": "2019-10-01T18:43:59.079675Z"
    }
   },
   "outputs": [],
   "source": [
    "duration = []\n",
    "notes = []\n",
    "activity_start = []\n",
    "fs = []"
   ]
  },
  {
   "cell_type": "markdown",
   "metadata": {},
   "source": [
    "## Loop through each file and quantify total duration, activitiy notes, and sampling rate\n",
    "\n",
    "### Note: First 3 files have notes in the 'notes' column, whereas all other files have it in the 'fw_version' column"
   ]
  },
  {
   "cell_type": "code",
   "execution_count": 8,
   "metadata": {
    "ExecuteTime": {
     "end_time": "2019-10-01T18:46:58.570439Z",
     "start_time": "2019-10-01T18:46:05.640774Z"
    },
    "run_control": {
     "marked": false
    }
   },
   "outputs": [],
   "source": [
    "# first 3 files have notes in the ' notes' column\n",
    "\n",
    "for i in files[0:3]:\n",
    "    data = pd.read_csv(i, usecols = ['#time', 'seq', 'note'])\n",
    "\n",
    "    # calculate total recording duration\n",
    "    data['#time'] = [datetime.datetime.fromtimestamp(s/1000.0) for s in data['#time']]\n",
    "    duration.append(data['#time'].iloc[-1] - data['#time'].iloc[0]) # calculate duration of recordings\n",
    "    \n",
    "    # calculate sampling rate\n",
    "    seq_int = data['seq'].diff() # change in seq number between consecutive samples\n",
    "    seq_breaks = np.where(seq_int < 1) # indices where change was neg\n",
    "    seq_breaks = seq_breaks[0]-1\n",
    "    if len(seq_breaks) == 0: # if no sequence breaks, fs = total samples / total seconds\n",
    "        temp_fs = len(data['#time']) / datetime.timedelta.total_seconds(data['#time'].iloc[-1] - data['#time'].iloc[0])\n",
    "    else: # if there is a sequence break, fs = samples until first break / total seconds until first break\n",
    "        temp_fs = (seq_breaks[0]) / datetime.timedelta.total_seconds(data['#time'].iloc[seq_breaks[0]] - data['#time'].iloc[0])\n",
    "    fs.append(temp_fs)\n",
    "    \n",
    "    # look for activity notes\n",
    "    temp = list(data['note'].unique())\n",
    "    temp = [x for x in temp if str(x) != 'nan']    \n",
    "    notes.append(temp)\n",
    "    \n",
    "    del temp \n",
    "    del temp_fs    "
   ]
  },
  {
   "cell_type": "code",
   "execution_count": 11,
   "metadata": {
    "ExecuteTime": {
     "end_time": "2019-10-01T18:50:33.203186Z",
     "start_time": "2019-10-01T18:47:51.432008Z"
    },
    "run_control": {
     "marked": false
    }
   },
   "outputs": [],
   "source": [
    "# remaining files have notes in the 'fw_version' column\n",
    "\n",
    "for i in files[4:]:\n",
    "    data = pd.read_csv(i, usecols = ['#time', 'seq', 'fw_version'])\n",
    "\n",
    "    # calculate total recording duration\n",
    "    data['#time'] = [datetime.datetime.fromtimestamp(s/1000.0) for s in data['#time']]\n",
    "    duration.append(data['#time'].iloc[-1] - data['#time'].iloc[0]) # calculate duration of recordings\n",
    "    \n",
    "    # calculate sampling rate\n",
    "    seq_int = data['seq'].diff() # change in seq number between consecutive samples\n",
    "    seq_breaks = np.where(seq_int < 1) # indices where change was neg\n",
    "    seq_breaks = seq_breaks[0]-1\n",
    "    if len(seq_breaks) == 0: # if there is a sequence break, fs = samples until first break / total seconds until first break\n",
    "        temp_fs = len(data['#time']) / datetime.timedelta.total_seconds(data['#time'].iloc[-1] - data['#time'].iloc[0])\n",
    "    else:\n",
    "        temp_fs = (seq_breaks[0]) / datetime.timedelta.total_seconds(data['#time'].iloc[seq_breaks[0]] - data['#time'].iloc[0])\n",
    "    temp_fs=int(temp_fs)\n",
    "    fs.append(temp_fs)\n",
    "    \n",
    "    # look for activity notes\n",
    "    temp = list(data['fw_version'].unique())\n",
    "    temp = [x for x in temp if str(x) != 'nan']    \n",
    "    notes.append(temp)\n",
    "    del temp \n",
    "    del temp_fs"
   ]
  },
  {
   "cell_type": "code",
   "execution_count": 10,
   "metadata": {
    "ExecuteTime": {
     "end_time": "2019-10-01T18:47:44.039019Z",
     "start_time": "2019-10-01T18:47:44.027824Z"
    }
   },
   "outputs": [
    {
     "data": {
      "text/plain": [
       "Timedelta('51 days 12:07:39.173000')"
      ]
     },
     "execution_count": 10,
     "metadata": {},
     "output_type": "execute_result"
    }
   ],
   "source": [
    "# total duration of all recordings\n",
    "\n",
    "total_duration = datetime.timedelta()\n",
    "\n",
    "for b in np.arange(0,len(duration)):\n",
    "    total_duration = total_duration + duration[b]\n",
    "\n",
    "total_duration"
   ]
  }
 ],
 "metadata": {
  "kernelspec": {
   "display_name": "Python 3",
   "language": "python",
   "name": "python3"
  },
  "language_info": {
   "codemirror_mode": {
    "name": "ipython",
    "version": 3
   },
   "file_extension": ".py",
   "mimetype": "text/x-python",
   "name": "python",
   "nbconvert_exporter": "python",
   "pygments_lexer": "ipython3",
   "version": "3.7.3"
  },
  "varInspector": {
   "cols": {
    "lenName": 16,
    "lenType": 16,
    "lenVar": 40
   },
   "kernels_config": {
    "python": {
     "delete_cmd_postfix": "",
     "delete_cmd_prefix": "del ",
     "library": "var_list.py",
     "varRefreshCmd": "print(var_dic_list())"
    },
    "r": {
     "delete_cmd_postfix": ") ",
     "delete_cmd_prefix": "rm(",
     "library": "var_list.r",
     "varRefreshCmd": "cat(var_dic_list()) "
    }
   },
   "oldHeight": 249,
   "position": {
    "height": "40px",
    "left": "997px",
    "right": "20px",
    "top": "100px",
    "width": "339px"
   },
   "types_to_exclude": [
    "module",
    "function",
    "builtin_function_or_method",
    "instance",
    "_Feature"
   ],
   "varInspector_section_display": "none",
   "window_display": true
  }
 },
 "nbformat": 4,
 "nbformat_minor": 2
}
